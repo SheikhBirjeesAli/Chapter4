{
 "cells": [
  {
   "cell_type": "markdown",
   "metadata": {},
   "source": [
    "# -------------------------- Chapter 4 ----------------------------------------------"
   ]
  },
  {
   "cell_type": "markdown",
   "metadata": {},
   "source": [
    "# Problem Solutions:"
   ]
  },
  {
   "cell_type": "markdown",
   "metadata": {},
   "source": [
    "# Problem 4.1"
   ]
  },
  {
   "cell_type": "code",
   "execution_count": 3,
   "metadata": {},
   "outputs": [
    {
     "name": "stdout",
     "output_type": "stream",
     "text": [
      "234\n",
      "78\n",
      "1234567\n",
      "0123\n",
      "789\n"
     ]
    }
   ],
   "source": [
    "s = '0123456789'\n",
    "print(s[2:5])\n",
    "print(s[7:9])\n",
    "print(s[1:8])\n",
    "print(s[:4])\n",
    "print(s[7:])"
   ]
  },
  {
   "cell_type": "markdown",
   "metadata": {},
   "source": [
    "# Problem 4.2"
   ]
  },
  {
   "cell_type": "code",
   "execution_count": 4,
   "metadata": {},
   "outputs": [
    {
     "name": "stdout",
     "output_type": "stream",
     "text": [
      "count: 2\n",
      "weather: 13\n",
      "change: It will be a cloudy day today\n"
     ]
    }
   ],
   "source": [
    "forecast = 'It will be a sunny day today'\n",
    "count = forecast.count('day')\n",
    "weather = forecast.find('sunny')\n",
    "change = forecast.replace('sunny','cloudy')\n",
    "print(\"count:\",count)\n",
    "print(\"weather:\",weather)\n",
    "print(\"change:\",change)"
   ]
  },
  {
   "cell_type": "markdown",
   "metadata": {},
   "source": [
    "# Problem 4.3"
   ]
  },
  {
   "cell_type": "code",
   "execution_count": 5,
   "metadata": {},
   "outputs": [
    {
     "name": "stdout",
     "output_type": "stream",
     "text": [
      "John\tPaul\tSmith\n"
     ]
    }
   ],
   "source": [
    "last = 'Smith'\n",
    "first = 'John'\n",
    "middle = 'Paul'\n",
    "print(first,middle,last,sep='\\t')"
   ]
  },
  {
   "cell_type": "markdown",
   "metadata": {},
   "source": [
    "# Problem 4.4"
   ]
  },
  {
   "cell_type": "code",
   "execution_count": 7,
   "metadata": {},
   "outputs": [
    {
     "name": "stdout",
     "output_type": "stream",
     "text": [
      "2,3,4,6,8,9,10,12,14,15,16,"
     ]
    }
   ],
   "source": [
    "def even(n):\n",
    "    for num in range(1,n+1):\n",
    "        if (num%2)==0 or (num%3)==0:\n",
    "            print(num,end=\",\")\n",
    "even(17)"
   ]
  },
  {
   "cell_type": "markdown",
   "metadata": {},
   "source": [
    "# Problem 4.5"
   ]
  },
  {
   "cell_type": "code",
   "execution_count": 19,
   "metadata": {},
   "outputs": [
    {
     "name": "stdout",
     "output_type": "stream",
     "text": [
      "John Doe\n",
      "123 Main Street\n",
      "AnyCity, AS 09876\n",
      "\n"
     ]
    }
   ],
   "source": [
    "first = 'John'\n",
    "last = 'Doe'\n",
    "street = 'Main Street'\n",
    "number = 123\n",
    "city = 'AnyCity'\n",
    "state = 'AS'\n",
    "zipcode = '09876'\n",
    "def mail(first,last,street,number,city,state,zipcode):\n",
    "    print('{} {}\\n{} {}\\n{}, {} {}'.format(first,last,number,street,city,state,zipcode))\n",
    "    return \"\"\n",
    "print(mail(first,last,street,number,city,state,zipcode))"
   ]
  },
  {
   "cell_type": "markdown",
   "metadata": {},
   "source": [
    "# Problem 4.6"
   ]
  },
  {
   "cell_type": "code",
   "execution_count": 38,
   "metadata": {},
   "outputs": [
    {
     "name": "stdout",
     "output_type": "stream",
     "text": [
      "Last      \tFirst     \tClass     \tAverage Grade\n",
      "DeMoines  \tJim       \tSophomore \t      3.45\n",
      "Pierre    \tSophie    \tSophomore \t      4.00\n",
      "Columbus  \tMaria     \tSenior    \t      2.50\n",
      "Phoenix   \tRiver     \tJunior    \t      2.45\n",
      "Olympis   \tEdgar     \tJunior    \t      3.99\n"
     ]
    }
   ],
   "source": [
    "students = []\n",
    "students.append(['DeMoines', 'Jim', 'Sophomore', 3.45])\n",
    "students.append(['Pierre', 'Sophie', 'Sophomore', 4.0])\n",
    "students.append(['Columbus', 'Maria', 'Senior', 2.5])\n",
    "students.append(['Phoenix', 'River', 'Junior', 2.45])\n",
    "students.append(['Olympis', 'Edgar', 'Junior', 3.99])\n",
    "\n",
    "def roster(lst):\n",
    "    print(\"{:10}\\t{:10}\\t{:10}\\t{:10}\".format(\"Last\",\"First\",\"Class\",\"Average Grade\"))\n",
    "    for ch in lst:\n",
    "        print(\"{:10}\\t{:10}\\t{:10}\\t{:10.2f}\".format(ch[0],ch[1],ch[2],ch[3]))\n",
    "\n",
    "roster(students)"
   ]
  },
  {
   "cell_type": "markdown",
   "metadata": {},
   "source": [
    "# Problem 4.7"
   ]
  },
  {
   "cell_type": "code",
   "execution_count": 88,
   "metadata": {},
   "outputs": [
    {
     "name": "stdout",
     "output_type": "stream",
     "text": [
      "Sunday, December 22 2019\n",
      "09:46 AM Pakistan Standard Time Central Daylight Time on 12/22/2019\n",
      "I will meet you on Sun December 22 at 09:46 AM.\n"
     ]
    }
   ],
   "source": [
    "import time\n",
    "t = time.localtime(1576990000)\n",
    "print(time.strftime('%A, %B %d %Y', t))\n",
    "print(time.strftime('%I:%M %p %Z Central Daylight Time on %m/%d/%Y',t))\n",
    "print(time.strftime('I will meet you on %a %B %d at %I:%M %p.', t))"
   ]
  },
  {
   "cell_type": "markdown",
   "metadata": {},
   "source": [
    "# Problem 4.8"
   ]
  },
  {
   "cell_type": "code",
   "execution_count": 108,
   "metadata": {},
   "outputs": [
    {
     "data": {
      "text/plain": [
       "1"
      ]
     },
     "execution_count": 108,
     "metadata": {},
     "output_type": "execute_result"
    }
   ],
   "source": [
    "def stringCount(file,ch):\n",
    "    file = open(file,'r')\n",
    "    infile = file.read()\n",
    "    file.close()\n",
    "    content = infile.split()\n",
    "    return content.count(ch)\n",
    "\n",
    "stringCount('textfile.txt', 'python')"
   ]
  },
  {
   "cell_type": "markdown",
   "metadata": {},
   "source": [
    "# Problem 4.9"
   ]
  },
  {
   "cell_type": "code",
   "execution_count": 122,
   "metadata": {},
   "outputs": [
    {
     "data": {
      "text/plain": [
       "['Hey', 'this', 'is', 'the', 'text', 'file', 'for', 'python']"
      ]
     },
     "execution_count": 122,
     "metadata": {},
     "output_type": "execute_result"
    }
   ],
   "source": [
    "def words(file):\n",
    "    file = open(file,'r')\n",
    "    infile = file.read()\n",
    "    file.close()\n",
    "    tbl = str.maketrans('!,.:;?','      ')\n",
    "    t = infile.translate(tbl)\n",
    "    res = t.split()\n",
    "    return res\n",
    "words('textfile.txt')"
   ]
  },
  {
   "cell_type": "markdown",
   "metadata": {},
   "source": [
    "# Problem 4.10"
   ]
  },
  {
   "cell_type": "code",
   "execution_count": 132,
   "metadata": {},
   "outputs": [
    {
     "name": "stdout",
     "output_type": "stream",
     "text": [
      "This is the ending of file.\n"
     ]
    }
   ],
   "source": [
    "def myGrep(file,s):\n",
    "    file = open(file,'r')\n",
    "    infile = file.readlines()\n",
    "    file.close()\n",
    "    for line in infile:\n",
    "        if s in line:\n",
    "            print((line))\n",
    "myGrep('text.txt', 'This')"
   ]
  },
  {
   "cell_type": "markdown",
   "metadata": {},
   "source": [
    "# Program Exercises"
   ]
  },
  {
   "cell_type": "markdown",
   "metadata": {},
   "source": [
    "# Problem 4.22"
   ]
  },
  {
   "cell_type": "code",
   "execution_count": 7,
   "metadata": {},
   "outputs": [
    {
     "data": {
      "text/plain": [
       "'Error: Enter months Between 1-12 only!'"
      ]
     },
     "execution_count": 7,
     "metadata": {},
     "output_type": "execute_result"
    }
   ],
   "source": [
    "import datetime\n",
    "def month(n):\n",
    "    if n >=1 and n <=12:\n",
    "        t = datetime.date(2019,n,1)\n",
    "        return  t.strftime(\"%b\")\n",
    "    else:\n",
    "        return 'Error: Enter months Between 1-12 only!'\n",
    "month(13)       "
   ]
  },
  {
   "cell_type": "markdown",
   "metadata": {},
   "source": [
    "# Problem 4.23"
   ]
  },
  {
   "cell_type": "code",
   "execution_count": 9,
   "metadata": {},
   "outputs": [
    {
     "name": "stdout",
     "output_type": "stream",
     "text": [
      "Enter a Sentence: this is a small sentence\n"
     ]
    },
    {
     "data": {
      "text/plain": [
       "4.0"
      ]
     },
     "execution_count": 9,
     "metadata": {},
     "output_type": "execute_result"
    }
   ],
   "source": [
    "# Problem 4.22def average():\n",
    "    s = input(\"Enter a Sentence: \")\n",
    "    s = s.split()\n",
    "    res = 0\n",
    "    for word in s:\n",
    "        res += len(word)\n",
    "    return res/len(s)\n",
    "average()"
   ]
  },
  {
   "cell_type": "markdown",
   "metadata": {},
   "source": [
    "# Problem 4.24"
   ]
  },
  {
   "cell_type": "code",
   "execution_count": 18,
   "metadata": {},
   "outputs": [
    {
     "name": "stdout",
     "output_type": "stream",
     "text": [
      "How do you spell winner?\n",
      "I know, I know!\n",
      "K I N G ! \n",
      "And that's how you spell winner!\n",
      "Go KING!\n"
     ]
    }
   ],
   "source": [
    "def cheer(s):\n",
    "    s = s+\"!\"\n",
    "    print(\"{}\\n{}\".format('How do you spell winner?',\"I know, I know!\",))\n",
    "    for i in s.upper():\n",
    "        print(i,end=\" \")\n",
    "    print(\"\\n{}\\nGo {}\".format(\"And that's how you spell winner!\",s))\n",
    "\n",
    "cheer('KING')"
   ]
  },
  {
   "cell_type": "markdown",
   "metadata": {},
   "source": [
    "# Problem 4.25"
   ]
  },
  {
   "cell_type": "code",
   "execution_count": 20,
   "metadata": {},
   "outputs": [
    {
     "name": "stdout",
     "output_type": "stream",
     "text": [
      "a, e, i, o, and u appear, respectively, 1, 1, 0, 2, 0 times.\n"
     ]
    }
   ],
   "source": [
    "def vowelCount(s):\n",
    "    print(\"a, e, i, o, and u appear, respectively, {}, {}, {}, {}, {} times.\".format(s.count('a'),s.count('e'),s.count('i'),s.count('o'),s.count('u')))\n",
    "    \n",
    "vowelCount('Python Programmer')"
   ]
  },
  {
   "cell_type": "markdown",
   "metadata": {},
   "source": [
    "# Problem 4.26"
   ]
  },
  {
   "cell_type": "code",
   "execution_count": 29,
   "metadata": {},
   "outputs": [
    {
     "name": "stdout",
     "output_type": "stream",
     "text": [
      "I will tell you my xxxxxx. But first, I have to explain\n",
      "why it is a xxxxxx.\n"
     ]
    }
   ],
   "source": [
    "def crypto(file):\n",
    "    data = open(file,'r')\n",
    "    read = data.read()\n",
    "    data.close()\n",
    "    if 'secret' in read:\n",
    "        res = (read.replace('secret','xxxxxx'))\n",
    "    return res\n",
    "    \n",
    "print(crypto('crypto.txt'))"
   ]
  },
  {
   "cell_type": "markdown",
   "metadata": {},
   "source": [
    "# Problem 4.27"
   ]
  },
  {
   "cell_type": "code",
   "execution_count": 8,
   "metadata": {},
   "outputs": [
    {
     "name": "stdout",
     "output_type": "stream",
     "text": [
      "the students in class are xxxx\n"
     ]
    }
   ],
   "source": [
    "def fcopy(f,ff):\n",
    "    f1 = open(f,'r').read()\n",
    "    file = open(ff,'w')\n",
    "    file.write(f1)\n",
    "    file.close()\n",
    "    file = open(ff,'r').read()\n",
    "    print(file)\n",
    "fcopy('abc.txt','rvr.txt')"
   ]
  },
  {
   "cell_type": "markdown",
   "metadata": {},
   "source": [
    "# Problem 4.28"
   ]
  },
  {
   "cell_type": "code",
   "execution_count": 23,
   "metadata": {},
   "outputs": [
    {
     "name": "stdout",
     "output_type": "stream",
     "text": [
      "Number of Links Found: 3\n"
     ]
    }
   ],
   "source": [
    "def links(f):\n",
    "    file = open(f,'r')\n",
    "    a = file.read()\n",
    "    file.close()\n",
    "    print('Number of Links Found:',a.count('<a>'))\n",
    "links('pages.html')"
   ]
  },
  {
   "cell_type": "markdown",
   "metadata": {},
   "source": [
    "# Problem 4.29"
   ]
  },
  {
   "cell_type": "code",
   "execution_count": 1,
   "metadata": {},
   "outputs": [
    {
     "name": "stdout",
     "output_type": "stream",
     "text": [
      "No. of Lines in file: 4\n",
      "No. of Words: 26\n",
      "No. of Characters: 99\n",
      "Good Bye!\n"
     ]
    }
   ],
   "source": [
    "def stats(filename):\n",
    "    char_num = 0\n",
    "    c = 0\n",
    "    infile = open(filename,'r')\n",
    "    content = infile.read()\n",
    "    infile.close()\n",
    "    linelst = content.split('\\n')\n",
    "    print(\"No. of Lines in file:\",len(linelst))\n",
    "    words = content.split()\n",
    "    print('No. of Words:',len(words))\n",
    "    for word in words:\n",
    "        c = c+len(word)\n",
    "    print('No. of Characters:',c)\n",
    "    return \"Good Bye!\"\n",
    "print(stats('text.txt'))"
   ]
  },
  {
   "cell_type": "markdown",
   "metadata": {},
   "source": [
    "# Problem 4.30"
   ]
  },
  {
   "cell_type": "code",
   "execution_count": 85,
   "metadata": {},
   "outputs": [
    {
     "name": "stdout",
     "output_type": "stream",
     "text": [
      "2 Students Get A\n",
      "3 Students Get A+\n",
      "2 Students Get B+\n",
      "1 Students Get C+\n",
      "1 Students Get D\n",
      "1 Students Get F\n",
      "Good Bye!\n"
     ]
    }
   ],
   "source": [
    "def distribution(filename):\n",
    "    grades = open('grade.txt','r')\n",
    "    content = grades.read()\n",
    "    grades.close()\n",
    "    n = 0\n",
    "    content = content.split()\n",
    "    for word in content:\n",
    "        c = content.count(word)\n",
    "        content.remove(word)\n",
    "        print(c,'Students Get',word)\n",
    "        n = n+c\n",
    "    return \"Good Bye!\"\n",
    "print(distribution('grade.txt'))"
   ]
  },
  {
   "cell_type": "markdown",
   "metadata": {},
   "source": [
    "# Problem 4.31"
   ]
  },
  {
   "cell_type": "code",
   "execution_count": 30,
   "metadata": {},
   "outputs": [
    {
     "data": {
      "text/plain": [
       "True"
      ]
     },
     "execution_count": 30,
     "metadata": {},
     "output_type": "execute_result"
    }
   ],
   "source": [
    "def duplicate(f):\n",
    "    file = open(f,'r').read()\n",
    "    content= file.split()\n",
    "    words = set(content)\n",
    "    for word in words:\n",
    "        if content.count(word)>1:\n",
    "            return True\n",
    "    return False\n",
    "duplicate('crypto.txt')"
   ]
  },
  {
   "cell_type": "markdown",
   "metadata": {},
   "source": [
    "# Problem 4.32"
   ]
  },
  {
   "cell_type": "code",
   "execution_count": 107,
   "metadata": {},
   "outputs": [
    {
     "name": "stdout",
     "output_type": "stream",
     "text": [
      "Done.\n"
     ]
    }
   ],
   "source": [
    "def abc(filename):\n",
    "    abc = open(filename,'r')\n",
    "    new = open('censored.txt','w+')\n",
    "    content = abc.read()\n",
    "    abc.close()\n",
    "    lst = content.split()\n",
    "    for i in lst:\n",
    "        if len(i) == 4:\n",
    "            content = content.replace(i,'xxxx')\n",
    "    new.write(content)\n",
    "    new.close()\n",
    "    return \"Done.\"\n",
    "print(abc('duplicate.txt'))"
   ]
  }
 ],
 "metadata": {
  "kernelspec": {
   "display_name": "Python 3",
   "language": "python",
   "name": "python3"
  },
  "language_info": {
   "codemirror_mode": {
    "name": "ipython",
    "version": 3
   },
   "file_extension": ".py",
   "mimetype": "text/x-python",
   "name": "python",
   "nbconvert_exporter": "python",
   "pygments_lexer": "ipython3",
   "version": "3.7.3"
  }
 },
 "nbformat": 4,
 "nbformat_minor": 2
}
